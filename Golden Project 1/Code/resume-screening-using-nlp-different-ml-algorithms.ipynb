{
 "cells": [
  {
   "cell_type": "markdown",
   "id": "529b03c8",
   "metadata": {
    "papermill": {
     "duration": 0.01388,
     "end_time": "2023-03-30T14:50:50.211377",
     "exception": false,
     "start_time": "2023-03-30T14:50:50.197497",
     "status": "completed"
    },
    "tags": []
   },
   "source": [
    "# Building a Resume Parser Using NLP(Spacy) and Machine Learning"
   ]
  },
  {
   "cell_type": "markdown",
   "id": "54720acd",
   "metadata": {
    "papermill": {
     "duration": 0.013968,
     "end_time": "2023-03-30T14:50:50.237906",
     "exception": false,
     "start_time": "2023-03-30T14:50:50.223938",
     "status": "completed"
    },
    "tags": []
   },
   "source": [
    "# Resume Screening with NLP+ with Different ML Algorithms"
   ]
  },
  {
   "cell_type": "markdown",
   "id": "afad3e94",
   "metadata": {
    "papermill": {
     "duration": 0.012068,
     "end_time": "2023-03-30T14:50:50.262348",
     "exception": false,
     "start_time": "2023-03-30T14:50:50.250280",
     "status": "completed"
    },
    "tags": []
   },
   "source": [
    "# **Importing the Libraries**"
   ]
  },
  {
   "cell_type": "code",
   "execution_count": 1,
   "id": "0846868d",
   "metadata": {
    "execution": {
     "iopub.execute_input": "2023-03-30T14:50:50.290153Z",
     "iopub.status.busy": "2023-03-30T14:50:50.288787Z",
     "iopub.status.idle": "2023-03-30T14:50:51.307443Z",
     "shell.execute_reply": "2023-03-30T14:50:51.306334Z"
    },
    "papermill": {
     "duration": 1.0356,
     "end_time": "2023-03-30T14:50:51.310252",
     "exception": false,
     "start_time": "2023-03-30T14:50:50.274652",
     "status": "completed"
    },
    "tags": []
   },
   "outputs": [],
   "source": [
    "#Importing Libraries \n",
    "import numpy as np\n",
    "import pandas as pd\n",
    "import matplotlib.pyplot as plt\n",
    "import seaborn as sns\n",
    "#program to display warning a message \n",
    "import warnings\n",
    "# displaying the warning message \n",
    "warnings.filterwarnings('ignore')"
   ]
  },
  {
   "cell_type": "code",
   "execution_count": 2,
   "id": "3dfb09be",
   "metadata": {
    "execution": {
     "iopub.execute_input": "2023-03-30T14:50:51.338157Z",
     "iopub.status.busy": "2023-03-30T14:50:51.337027Z",
     "iopub.status.idle": "2023-03-30T14:50:51.446858Z",
     "shell.execute_reply": "2023-03-30T14:50:51.446028Z"
    },
    "papermill": {
     "duration": 0.126234,
     "end_time": "2023-03-30T14:50:51.449330",
     "exception": false,
     "start_time": "2023-03-30T14:50:51.323096",
     "status": "completed"
    },
    "scrolled": true,
    "tags": []
   },
   "outputs": [
    {
     "data": {
      "text/html": [
       "<div>\n",
       "<style scoped>\n",
       "    .dataframe tbody tr th:only-of-type {\n",
       "        vertical-align: middle;\n",
       "    }\n",
       "\n",
       "    .dataframe tbody tr th {\n",
       "        vertical-align: top;\n",
       "    }\n",
       "\n",
       "    .dataframe thead th {\n",
       "        text-align: right;\n",
       "    }\n",
       "</style>\n",
       "<table border=\"1\" class=\"dataframe\">\n",
       "  <thead>\n",
       "    <tr style=\"text-align: right;\">\n",
       "      <th></th>\n",
       "      <th>Category</th>\n",
       "      <th>Resume</th>\n",
       "    </tr>\n",
       "  </thead>\n",
       "  <tbody>\n",
       "    <tr>\n",
       "      <th>0</th>\n",
       "      <td>Data Science</td>\n",
       "      <td>Skills * Programming Languages: Python (pandas...</td>\n",
       "    </tr>\n",
       "    <tr>\n",
       "      <th>1</th>\n",
       "      <td>Data Science</td>\n",
       "      <td>Education Details \\r\\nMay 2013 to May 2017 B.E...</td>\n",
       "    </tr>\n",
       "    <tr>\n",
       "      <th>2</th>\n",
       "      <td>Data Science</td>\n",
       "      <td>Areas of Interest Deep Learning, Control Syste...</td>\n",
       "    </tr>\n",
       "    <tr>\n",
       "      <th>3</th>\n",
       "      <td>Data Science</td>\n",
       "      <td>Skills â¢ R â¢ Python â¢ SAP HANA â¢ Table...</td>\n",
       "    </tr>\n",
       "    <tr>\n",
       "      <th>4</th>\n",
       "      <td>Data Science</td>\n",
       "      <td>Education Details \\r\\n MCA   YMCAUST,  Faridab...</td>\n",
       "    </tr>\n",
       "  </tbody>\n",
       "</table>\n",
       "</div>"
      ],
      "text/plain": [
       "       Category                                             Resume\n",
       "0  Data Science  Skills * Programming Languages: Python (pandas...\n",
       "1  Data Science  Education Details \\r\\nMay 2013 to May 2017 B.E...\n",
       "2  Data Science  Areas of Interest Deep Learning, Control Syste...\n",
       "3  Data Science  Skills â¢ R â¢ Python â¢ SAP HANA â¢ Table...\n",
       "4  Data Science  Education Details \\r\\n MCA   YMCAUST,  Faridab..."
      ]
     },
     "execution_count": 2,
     "metadata": {},
     "output_type": "execute_result"
    }
   ],
   "source": [
    "df= pd.read_csv('UpdatedResumeDataSet.csv')\n",
    "df.head()"
   ]
  },
  {
   "cell_type": "markdown",
   "id": "75070d5d",
   "metadata": {
    "papermill": {
     "duration": 0.012277,
     "end_time": "2023-03-30T14:50:51.474645",
     "exception": false,
     "start_time": "2023-03-30T14:50:51.462368",
     "status": "completed"
    },
    "tags": []
   },
   "source": [
    "# Dataset"
   ]
  },
  {
   "cell_type": "code",
   "execution_count": 3,
   "id": "5f1f9680",
   "metadata": {
    "execution": {
     "iopub.execute_input": "2023-03-30T14:50:51.502410Z",
     "iopub.status.busy": "2023-03-30T14:50:51.502002Z",
     "iopub.status.idle": "2023-03-30T14:50:51.508708Z",
     "shell.execute_reply": "2023-03-30T14:50:51.507569Z"
    },
    "papermill": {
     "duration": 0.023791,
     "end_time": "2023-03-30T14:50:51.511041",
     "exception": false,
     "start_time": "2023-03-30T14:50:51.487250",
     "status": "completed"
    },
    "tags": []
   },
   "outputs": [
    {
     "data": {
      "text/plain": [
       "(962, 2)"
      ]
     },
     "execution_count": 3,
     "metadata": {},
     "output_type": "execute_result"
    }
   ],
   "source": [
    "#The DataFrame. shape attribute in Pandas enables us to obtain the shape of a DataFrame. \n",
    "df.shape"
   ]
  },
  {
   "cell_type": "code",
   "execution_count": 4,
   "id": "832a6f22",
   "metadata": {
    "execution": {
     "iopub.execute_input": "2023-03-30T14:50:51.565293Z",
     "iopub.status.busy": "2023-03-30T14:50:51.564601Z",
     "iopub.status.idle": "2023-03-30T14:50:51.587196Z",
     "shell.execute_reply": "2023-03-30T14:50:51.585978Z"
    },
    "papermill": {
     "duration": 0.039683,
     "end_time": "2023-03-30T14:50:51.590100",
     "exception": false,
     "start_time": "2023-03-30T14:50:51.550417",
     "status": "completed"
    },
    "tags": []
   },
   "outputs": [
    {
     "name": "stdout",
     "output_type": "stream",
     "text": [
      "<class 'pandas.core.frame.DataFrame'>\n",
      "RangeIndex: 962 entries, 0 to 961\n",
      "Data columns (total 2 columns):\n",
      " #   Column    Non-Null Count  Dtype \n",
      "---  ------    --------------  ----- \n",
      " 0   Category  962 non-null    object\n",
      " 1   Resume    962 non-null    object\n",
      "dtypes: object(2)\n",
      "memory usage: 15.2+ KB\n"
     ]
    }
   ],
   "source": [
    "# prints information about the DataFrame. \n",
    "df.info()"
   ]
  },
  {
   "cell_type": "code",
   "execution_count": 5,
   "id": "cb6af212",
   "metadata": {
    "execution": {
     "iopub.execute_input": "2023-03-30T14:50:51.620229Z",
     "iopub.status.busy": "2023-03-30T14:50:51.619533Z",
     "iopub.status.idle": "2023-03-30T14:50:51.628477Z",
     "shell.execute_reply": "2023-03-30T14:50:51.627444Z"
    },
    "papermill": {
     "duration": 0.02582,
     "end_time": "2023-03-30T14:50:51.630741",
     "exception": false,
     "start_time": "2023-03-30T14:50:51.604921",
     "status": "completed"
    },
    "tags": []
   },
   "outputs": [
    {
     "data": {
      "text/plain": [
       "Category    0\n",
       "Resume      0\n",
       "dtype: int64"
      ]
     },
     "execution_count": 5,
     "metadata": {},
     "output_type": "execute_result"
    }
   ],
   "source": [
    "#Replace all values in the DataFrame with True(1) for NULL values, otherwise False(0):\n",
    "df.isnull().sum()"
   ]
  },
  {
   "cell_type": "code",
   "execution_count": 6,
   "id": "ed6ecc1b",
   "metadata": {
    "execution": {
     "iopub.execute_input": "2023-03-30T14:50:51.658648Z",
     "iopub.status.busy": "2023-03-30T14:50:51.657926Z",
     "iopub.status.idle": "2023-03-30T14:50:51.664390Z",
     "shell.execute_reply": "2023-03-30T14:50:51.663637Z"
    },
    "papermill": {
     "duration": 0.022749,
     "end_time": "2023-03-30T14:50:51.666454",
     "exception": false,
     "start_time": "2023-03-30T14:50:51.643705",
     "status": "completed"
    },
    "tags": []
   },
   "outputs": [
    {
     "data": {
      "text/plain": [
       "array(['Data Science', 'HR', 'Advocate', 'Arts', 'Web Designing',\n",
       "       'Mechanical Engineer', 'Sales', 'Health and fitness',\n",
       "       'Civil Engineer', 'Java Developer', 'Business Analyst',\n",
       "       'SAP Developer', 'Automation Testing', 'Electrical Engineering',\n",
       "       'Operations Manager', 'Python Developer', 'DevOps Engineer',\n",
       "       'Network Security Engineer', 'PMO', 'Database', 'Hadoop',\n",
       "       'ETL Developer', 'DotNet Developer', 'Blockchain', 'Testing'],\n",
       "      dtype=object)"
      ]
     },
     "execution_count": 6,
     "metadata": {},
     "output_type": "execute_result"
    }
   ],
   "source": [
    "#It used to find the unique values from a Category Column. \n",
    "df['Category'].unique()"
   ]
  },
  {
   "cell_type": "code",
   "execution_count": 7,
   "id": "4dc6fed5",
   "metadata": {
    "execution": {
     "iopub.execute_input": "2023-03-30T14:50:51.694569Z",
     "iopub.status.busy": "2023-03-30T14:50:51.693879Z",
     "iopub.status.idle": "2023-03-30T14:50:51.700253Z",
     "shell.execute_reply": "2023-03-30T14:50:51.699332Z"
    },
    "papermill": {
     "duration": 0.022839,
     "end_time": "2023-03-30T14:50:51.702226",
     "exception": false,
     "start_time": "2023-03-30T14:50:51.679387",
     "status": "completed"
    },
    "tags": []
   },
   "outputs": [
    {
     "data": {
      "text/plain": [
       "25"
      ]
     },
     "execution_count": 7,
     "metadata": {},
     "output_type": "execute_result"
    }
   ],
   "source": [
    "#The nunique() function counts the number of unique entries in a column of a dataframe.\n",
    "df['Category'].nunique()"
   ]
  },
  {
   "cell_type": "code",
   "execution_count": 8,
   "id": "57991d1e",
   "metadata": {
    "execution": {
     "iopub.execute_input": "2023-03-30T14:50:51.756217Z",
     "iopub.status.busy": "2023-03-30T14:50:51.755626Z",
     "iopub.status.idle": "2023-03-30T14:50:51.768913Z",
     "shell.execute_reply": "2023-03-30T14:50:51.767998Z"
    },
    "papermill": {
     "duration": 0.029678,
     "end_time": "2023-03-30T14:50:51.770983",
     "exception": false,
     "start_time": "2023-03-30T14:50:51.741305",
     "status": "completed"
    },
    "tags": []
   },
   "outputs": [
    {
     "data": {
      "text/html": [
       "<div>\n",
       "<style scoped>\n",
       "    .dataframe tbody tr th:only-of-type {\n",
       "        vertical-align: middle;\n",
       "    }\n",
       "\n",
       "    .dataframe tbody tr th {\n",
       "        vertical-align: top;\n",
       "    }\n",
       "\n",
       "    .dataframe thead th {\n",
       "        text-align: right;\n",
       "    }\n",
       "</style>\n",
       "<table border=\"1\" class=\"dataframe\">\n",
       "  <thead>\n",
       "    <tr style=\"text-align: right;\">\n",
       "      <th></th>\n",
       "      <th>index</th>\n",
       "      <th>Category</th>\n",
       "    </tr>\n",
       "  </thead>\n",
       "  <tbody>\n",
       "    <tr>\n",
       "      <th>0</th>\n",
       "      <td>Java Developer</td>\n",
       "      <td>84</td>\n",
       "    </tr>\n",
       "    <tr>\n",
       "      <th>1</th>\n",
       "      <td>Testing</td>\n",
       "      <td>70</td>\n",
       "    </tr>\n",
       "    <tr>\n",
       "      <th>2</th>\n",
       "      <td>DevOps Engineer</td>\n",
       "      <td>55</td>\n",
       "    </tr>\n",
       "    <tr>\n",
       "      <th>3</th>\n",
       "      <td>Python Developer</td>\n",
       "      <td>48</td>\n",
       "    </tr>\n",
       "    <tr>\n",
       "      <th>4</th>\n",
       "      <td>Web Designing</td>\n",
       "      <td>45</td>\n",
       "    </tr>\n",
       "    <tr>\n",
       "      <th>5</th>\n",
       "      <td>HR</td>\n",
       "      <td>44</td>\n",
       "    </tr>\n",
       "    <tr>\n",
       "      <th>6</th>\n",
       "      <td>Hadoop</td>\n",
       "      <td>42</td>\n",
       "    </tr>\n",
       "    <tr>\n",
       "      <th>7</th>\n",
       "      <td>Blockchain</td>\n",
       "      <td>40</td>\n",
       "    </tr>\n",
       "    <tr>\n",
       "      <th>8</th>\n",
       "      <td>ETL Developer</td>\n",
       "      <td>40</td>\n",
       "    </tr>\n",
       "    <tr>\n",
       "      <th>9</th>\n",
       "      <td>Operations Manager</td>\n",
       "      <td>40</td>\n",
       "    </tr>\n",
       "    <tr>\n",
       "      <th>10</th>\n",
       "      <td>Data Science</td>\n",
       "      <td>40</td>\n",
       "    </tr>\n",
       "    <tr>\n",
       "      <th>11</th>\n",
       "      <td>Sales</td>\n",
       "      <td>40</td>\n",
       "    </tr>\n",
       "    <tr>\n",
       "      <th>12</th>\n",
       "      <td>Mechanical Engineer</td>\n",
       "      <td>40</td>\n",
       "    </tr>\n",
       "    <tr>\n",
       "      <th>13</th>\n",
       "      <td>Arts</td>\n",
       "      <td>36</td>\n",
       "    </tr>\n",
       "    <tr>\n",
       "      <th>14</th>\n",
       "      <td>Database</td>\n",
       "      <td>33</td>\n",
       "    </tr>\n",
       "    <tr>\n",
       "      <th>15</th>\n",
       "      <td>Electrical Engineering</td>\n",
       "      <td>30</td>\n",
       "    </tr>\n",
       "    <tr>\n",
       "      <th>16</th>\n",
       "      <td>Health and fitness</td>\n",
       "      <td>30</td>\n",
       "    </tr>\n",
       "    <tr>\n",
       "      <th>17</th>\n",
       "      <td>PMO</td>\n",
       "      <td>30</td>\n",
       "    </tr>\n",
       "    <tr>\n",
       "      <th>18</th>\n",
       "      <td>Business Analyst</td>\n",
       "      <td>28</td>\n",
       "    </tr>\n",
       "    <tr>\n",
       "      <th>19</th>\n",
       "      <td>DotNet Developer</td>\n",
       "      <td>28</td>\n",
       "    </tr>\n",
       "    <tr>\n",
       "      <th>20</th>\n",
       "      <td>Automation Testing</td>\n",
       "      <td>26</td>\n",
       "    </tr>\n",
       "    <tr>\n",
       "      <th>21</th>\n",
       "      <td>Network Security Engineer</td>\n",
       "      <td>25</td>\n",
       "    </tr>\n",
       "    <tr>\n",
       "      <th>22</th>\n",
       "      <td>SAP Developer</td>\n",
       "      <td>24</td>\n",
       "    </tr>\n",
       "    <tr>\n",
       "      <th>23</th>\n",
       "      <td>Civil Engineer</td>\n",
       "      <td>24</td>\n",
       "    </tr>\n",
       "    <tr>\n",
       "      <th>24</th>\n",
       "      <td>Advocate</td>\n",
       "      <td>20</td>\n",
       "    </tr>\n",
       "  </tbody>\n",
       "</table>\n",
       "</div>"
      ],
      "text/plain": [
       "                        index  Category\n",
       "0              Java Developer        84\n",
       "1                     Testing        70\n",
       "2             DevOps Engineer        55\n",
       "3            Python Developer        48\n",
       "4               Web Designing        45\n",
       "5                          HR        44\n",
       "6                      Hadoop        42\n",
       "7                  Blockchain        40\n",
       "8               ETL Developer        40\n",
       "9          Operations Manager        40\n",
       "10               Data Science        40\n",
       "11                      Sales        40\n",
       "12        Mechanical Engineer        40\n",
       "13                       Arts        36\n",
       "14                   Database        33\n",
       "15     Electrical Engineering        30\n",
       "16         Health and fitness        30\n",
       "17                        PMO        30\n",
       "18           Business Analyst        28\n",
       "19           DotNet Developer        28\n",
       "20         Automation Testing        26\n",
       "21  Network Security Engineer        25\n",
       "22              SAP Developer        24\n",
       "23             Civil Engineer        24\n",
       "24                   Advocate        20"
      ]
     },
     "execution_count": 8,
     "metadata": {},
     "output_type": "execute_result"
    }
   ],
   "source": [
    "categories = df['Category'].value_counts().reset_index()\n",
    "categories"
   ]
  },
  {
   "cell_type": "code",
   "execution_count": 9,
   "id": "4ce6479c",
   "metadata": {
    "execution": {
     "iopub.execute_input": "2023-03-30T14:50:51.826141Z",
     "iopub.status.busy": "2023-03-30T14:50:51.825436Z",
     "iopub.status.idle": "2023-03-30T14:50:52.266192Z",
     "shell.execute_reply": "2023-03-30T14:50:52.265025Z"
    },
    "papermill": {
     "duration": 0.458361,
     "end_time": "2023-03-30T14:50:52.269047",
     "exception": false,
     "start_time": "2023-03-30T14:50:51.810686",
     "status": "completed"
    },
    "tags": []
   },
   "outputs": [
    {
     "data": {
      "image/png": "[encoded data removed]",
      "text/plain": [
       "<Figure size 2500x900 with 1 Axes>"
      ]
     },
     "metadata": {},
     "output_type": "display_data"
    }
   ],
   "source": [
    "plt.figure(figsize=(25,9))\n",
    "#xticks() function is used to get or set the current tick locations and labels of the x-axis.\n",
    "plt.xticks(rotation=60)\n",
    "# count plot on single categorical variable\n",
    "sns.countplot(x ='Category', data= df, order= df['Category'].value_counts().index)\n",
    " \n",
    "# Show the plot\n",
    "plt.show()"
   ]
  },
  {
   "cell_type": "code",
   "execution_count": 10,
   "id": "7cf374c5",
   "metadata": {
    "execution": {
     "iopub.execute_input": "2023-03-30T14:50:52.299811Z",
     "iopub.status.busy": "2023-03-30T14:50:52.299392Z",
     "iopub.status.idle": "2023-03-30T14:50:52.767214Z",
     "shell.execute_reply": "2023-03-30T14:50:52.766026Z"
    },
    "papermill": {
     "duration": 0.48726,
     "end_time": "2023-03-30T14:50:52.770849",
     "exception": false,
     "start_time": "2023-03-30T14:50:52.283589",
     "status": "completed"
    },
    "tags": []
   },
   "outputs": [
    {
     "data": {
      "image/png": "[encoded data removed]",
      "text/plain": [
       "<Figure size 2500x800 with 1 Axes>"
      ]
     },
     "metadata": {},
     "output_type": "display_data"
    }
   ],
   "source": [
    "plt.figure(figsize=(25,8))\n",
    "\n",
    "#define Seaborn color palette to use\n",
    "colors= sns.color_palette('bright')[0:7]\n",
    "\n",
    "#create pie chart\n",
    "plt.pie(categories['Category'], labels= categories['index'], colors = colors, autopct='%.1f%%')\n",
    "plt.show()"
   ]
  },
  {
   "cell_type": "markdown",
   "id": "5d838888",
   "metadata": {
    "papermill": {
     "duration": 0.015769,
     "end_time": "2023-03-30T14:50:52.804071",
     "exception": false,
     "start_time": "2023-03-30T14:50:52.788302",
     "status": "completed"
    },
    "tags": []
   },
   "source": [
    "# Preprocessing Data"
   ]
  },
  {
   "cell_type": "code",
   "execution_count": 11,
   "id": "c8c4fc78",
   "metadata": {
    "execution": {
     "iopub.execute_input": "2023-03-30T14:50:52.869835Z",
     "iopub.status.busy": "2023-03-30T14:50:52.868772Z",
     "iopub.status.idle": "2023-03-30T14:50:52.884289Z",
     "shell.execute_reply": "2023-03-30T14:50:52.883255Z"
    },
    "papermill": {
     "duration": 0.034694,
     "end_time": "2023-03-30T14:50:52.886380",
     "exception": false,
     "start_time": "2023-03-30T14:50:52.851686",
     "status": "completed"
    },
    "tags": []
   },
   "outputs": [
    {
     "data": {
      "text/html": [
       "<div>\n",
       "<style scoped>\n",
       "    .dataframe tbody tr th:only-of-type {\n",
       "        vertical-align: middle;\n",
       "    }\n",
       "\n",
       "    .dataframe tbody tr th {\n",
       "        vertical-align: top;\n",
       "    }\n",
       "\n",
       "    .dataframe thead th {\n",
       "        text-align: right;\n",
       "    }\n",
       "</style>\n",
       "<table border=\"1\" class=\"dataframe\">\n",
       "  <thead>\n",
       "    <tr style=\"text-align: right;\">\n",
       "      <th></th>\n",
       "      <th>Category</th>\n",
       "      <th>Resume</th>\n",
       "      <th>cleaned_resume</th>\n",
       "    </tr>\n",
       "  </thead>\n",
       "  <tbody>\n",
       "    <tr>\n",
       "      <th>0</th>\n",
       "      <td>Data Science</td>\n",
       "      <td>Skills * Programming Languages: Python (pandas...</td>\n",
       "      <td></td>\n",
       "    </tr>\n",
       "    <tr>\n",
       "      <th>1</th>\n",
       "      <td>Data Science</td>\n",
       "      <td>Education Details \\r\\nMay 2013 to May 2017 B.E...</td>\n",
       "      <td></td>\n",
       "    </tr>\n",
       "    <tr>\n",
       "      <th>2</th>\n",
       "      <td>Data Science</td>\n",
       "      <td>Areas of Interest Deep Learning, Control Syste...</td>\n",
       "      <td></td>\n",
       "    </tr>\n",
       "    <tr>\n",
       "      <th>3</th>\n",
       "      <td>Data Science</td>\n",
       "      <td>Skills â¢ R â¢ Python â¢ SAP HANA â¢ Table...</td>\n",
       "      <td></td>\n",
       "    </tr>\n",
       "    <tr>\n",
       "      <th>4</th>\n",
       "      <td>Data Science</td>\n",
       "      <td>Education Details \\r\\n MCA   YMCAUST,  Faridab...</td>\n",
       "      <td></td>\n",
       "    </tr>\n",
       "    <tr>\n",
       "      <th>...</th>\n",
       "      <td>...</td>\n",
       "      <td>...</td>\n",
       "      <td>...</td>\n",
       "    </tr>\n",
       "    <tr>\n",
       "      <th>957</th>\n",
       "      <td>Testing</td>\n",
       "      <td>Computer Skills: â¢ Proficient in MS office (...</td>\n",
       "      <td></td>\n",
       "    </tr>\n",
       "    <tr>\n",
       "      <th>958</th>\n",
       "      <td>Testing</td>\n",
       "      <td>â Willingness to accept the challenges. â ...</td>\n",
       "      <td></td>\n",
       "    </tr>\n",
       "    <tr>\n",
       "      <th>959</th>\n",
       "      <td>Testing</td>\n",
       "      <td>PERSONAL SKILLS â¢ Quick learner, â¢ Eagerne...</td>\n",
       "      <td></td>\n",
       "    </tr>\n",
       "    <tr>\n",
       "      <th>960</th>\n",
       "      <td>Testing</td>\n",
       "      <td>COMPUTER SKILLS &amp; SOFTWARE KNOWLEDGE MS-Power ...</td>\n",
       "      <td></td>\n",
       "    </tr>\n",
       "    <tr>\n",
       "      <th>961</th>\n",
       "      <td>Testing</td>\n",
       "      <td>Skill Set OS Windows XP/7/8/8.1/10 Database MY...</td>\n",
       "      <td></td>\n",
       "    </tr>\n",
       "  </tbody>\n",
       "</table>\n",
       "<p>962 rows × 3 columns</p>\n",
       "</div>"
      ],
      "text/plain": [
       "         Category                                             Resume  \\\n",
       "0    Data Science  Skills * Programming Languages: Python (pandas...   \n",
       "1    Data Science  Education Details \\r\\nMay 2013 to May 2017 B.E...   \n",
       "2    Data Science  Areas of Interest Deep Learning, Control Syste...   \n",
       "3    Data Science  Skills â¢ R â¢ Python â¢ SAP HANA â¢ Table...   \n",
       "4    Data Science  Education Details \\r\\n MCA   YMCAUST,  Faridab...   \n",
       "..            ...                                                ...   \n",
       "957       Testing  Computer Skills: â¢ Proficient in MS office (...   \n",
       "958       Testing  â Willingness to accept the challenges. â ...   \n",
       "959       Testing  PERSONAL SKILLS â¢ Quick learner, â¢ Eagerne...   \n",
       "960       Testing  COMPUTER SKILLS & SOFTWARE KNOWLEDGE MS-Power ...   \n",
       "961       Testing  Skill Set OS Windows XP/7/8/8.1/10 Database MY...   \n",
       "\n",
       "    cleaned_resume  \n",
       "0                   \n",
       "1                   \n",
       "2                   \n",
       "3                   \n",
       "4                   \n",
       "..             ...  \n",
       "957                 \n",
       "958                 \n",
       "959                 \n",
       "960                 \n",
       "961                 \n",
       "\n",
       "[962 rows x 3 columns]"
      ]
     },
     "execution_count": 11,
     "metadata": {},
     "output_type": "execute_result"
    }
   ],
   "source": [
    "#The copy() method returns a copy of the DataFrame.\n",
    "df1= df.copy()\n",
    "df1['cleaned_resume']= \"\"\n",
    "df1"
   ]
  },
  {
   "cell_type": "code",
   "execution_count": 12,
   "id": "7041095e",
   "metadata": {
    "execution": {
     "iopub.execute_input": "2023-03-30T14:50:52.954086Z",
     "iopub.status.busy": "2023-03-30T14:50:52.953392Z",
     "iopub.status.idle": "2023-03-30T14:50:52.959920Z",
     "shell.execute_reply": "2023-03-30T14:50:52.959216Z"
    },
    "papermill": {
     "duration": 0.026029,
     "end_time": "2023-03-30T14:50:52.961910",
     "exception": false,
     "start_time": "2023-03-30T14:50:52.935881",
     "status": "completed"
    },
    "tags": []
   },
   "outputs": [],
   "source": [
    "import re\n",
    "def clean_function(resumeText):\n",
    "    resumeText = re.sub('http\\S+\\s*', ' ', resumeText)  # remove URLs\n",
    "    resumeText = re.sub('RT|cc', ' ', resumeText)  # remove RT and cc\n",
    "    resumeText = re.sub('#\\S+', '', resumeText)  # remove hashtags\n",
    "    resumeText = re.sub('@\\S+', '  ', resumeText)  # remove mentions\n",
    "    resumeText = re.sub('[%s]' % re.escape(\"\"\"!\"#$%&'()*+,-./:;<=>?@[\\]^_`{|}~\"\"\"), ' ', resumeText)  # remove punctuations\n",
    "    resumeText = re.sub(r'[^\\x00-\\x7f]',r' ', resumeText) \n",
    "    resumeText = re.sub('\\s+', ' ', resumeText)  # remove extra whitespace\n",
    "    return resumeText"
   ]
  },
  {
   "cell_type": "markdown",
   "id": "2dcf6edf",
   "metadata": {
    "papermill": {
     "duration": 0.016249,
     "end_time": "2023-03-30T14:50:52.994396",
     "exception": false,
     "start_time": "2023-03-30T14:50:52.978147",
     "status": "completed"
    },
    "tags": []
   },
   "source": [
    "Let's apply to columns:\n",
    "Pandas.apply allow the users to pass a function and apply it on every single value of the Pandas series. It comes as a huge improvement for the pandas library as this function  **helps to segregate data according to the conditions required** due to which it is efficiently used in data science and machine learning."
   ]
  },
  {
   "cell_type": "code",
   "execution_count": 13,
   "id": "2f9a6cb9",
   "metadata": {
    "execution": {
     "iopub.execute_input": "2023-03-30T14:50:53.028861Z",
     "iopub.status.busy": "2023-03-30T14:50:53.028273Z",
     "iopub.status.idle": "2023-03-30T14:50:53.290241Z",
     "shell.execute_reply": "2023-03-30T14:50:53.289004Z"
    },
    "papermill": {
     "duration": 0.281921,
     "end_time": "2023-03-30T14:50:53.292574",
     "exception": false,
     "start_time": "2023-03-30T14:50:53.010653",
     "status": "completed"
    },
    "tags": []
   },
   "outputs": [
    {
     "data": {
      "text/html": [
       "<div>\n",
       "<style scoped>\n",
       "    .dataframe tbody tr th:only-of-type {\n",
       "        vertical-align: middle;\n",
       "    }\n",
       "\n",
       "    .dataframe tbody tr th {\n",
       "        vertical-align: top;\n",
       "    }\n",
       "\n",
       "    .dataframe thead th {\n",
       "        text-align: right;\n",
       "    }\n",
       "</style>\n",
       "<table border=\"1\" class=\"dataframe\">\n",
       "  <thead>\n",
       "    <tr style=\"text-align: right;\">\n",
       "      <th></th>\n",
       "      <th>Category</th>\n",
       "      <th>Resume</th>\n",
       "      <th>cleaned_resume</th>\n",
       "    </tr>\n",
       "  </thead>\n",
       "  <tbody>\n",
       "    <tr>\n",
       "      <th>0</th>\n",
       "      <td>Data Science</td>\n",
       "      <td>Skills * Programming Languages: Python (pandas...</td>\n",
       "      <td>Skills Programming Languages Python pandas num...</td>\n",
       "    </tr>\n",
       "    <tr>\n",
       "      <th>1</th>\n",
       "      <td>Data Science</td>\n",
       "      <td>Education Details \\r\\nMay 2013 to May 2017 B.E...</td>\n",
       "      <td>Education Details May 2013 to May 2017 B E UIT...</td>\n",
       "    </tr>\n",
       "    <tr>\n",
       "      <th>2</th>\n",
       "      <td>Data Science</td>\n",
       "      <td>Areas of Interest Deep Learning, Control Syste...</td>\n",
       "      <td>Areas of Interest Deep Learning Control System...</td>\n",
       "    </tr>\n",
       "    <tr>\n",
       "      <th>3</th>\n",
       "      <td>Data Science</td>\n",
       "      <td>Skills â¢ R â¢ Python â¢ SAP HANA â¢ Table...</td>\n",
       "      <td>Skills R Python SAP HANA Tableau SAP HANA SQL ...</td>\n",
       "    </tr>\n",
       "    <tr>\n",
       "      <th>4</th>\n",
       "      <td>Data Science</td>\n",
       "      <td>Education Details \\r\\n MCA   YMCAUST,  Faridab...</td>\n",
       "      <td>Education Details MCA YMCAUST Faridabad Haryan...</td>\n",
       "    </tr>\n",
       "  </tbody>\n",
       "</table>\n",
       "</div>"
      ],
      "text/plain": [
       "       Category                                             Resume  \\\n",
       "0  Data Science  Skills * Programming Languages: Python (pandas...   \n",
       "1  Data Science  Education Details \\r\\nMay 2013 to May 2017 B.E...   \n",
       "2  Data Science  Areas of Interest Deep Learning, Control Syste...   \n",
       "3  Data Science  Skills â¢ R â¢ Python â¢ SAP HANA â¢ Table...   \n",
       "4  Data Science  Education Details \\r\\n MCA   YMCAUST,  Faridab...   \n",
       "\n",
       "                                      cleaned_resume  \n",
       "0  Skills Programming Languages Python pandas num...  \n",
       "1  Education Details May 2013 to May 2017 B E UIT...  \n",
       "2  Areas of Interest Deep Learning Control System...  \n",
       "3  Skills R Python SAP HANA Tableau SAP HANA SQL ...  \n",
       "4  Education Details MCA YMCAUST Faridabad Haryan...  "
      ]
     },
     "execution_count": 13,
     "metadata": {},
     "output_type": "execute_result"
    }
   ],
   "source": [
    "df1['cleaned_resume'] = df1['Resume'].apply(lambda x: clean_function(x))\n",
    "df1.head()"
   ]
  },
  {
   "cell_type": "code",
   "execution_count": 14,
   "id": "ef698ed2",
   "metadata": {
    "execution": {
     "iopub.execute_input": "2023-03-30T14:50:53.359967Z",
     "iopub.status.busy": "2023-03-30T14:50:53.359559Z",
     "iopub.status.idle": "2023-03-30T14:50:53.492525Z",
     "shell.execute_reply": "2023-03-30T14:50:53.491321Z"
    },
    "papermill": {
     "duration": 0.153095,
     "end_time": "2023-03-30T14:50:53.494798",
     "exception": false,
     "start_time": "2023-03-30T14:50:53.341703",
     "status": "completed"
    },
    "tags": []
   },
   "outputs": [
    {
     "data": {
      "text/html": [
       "<div>\n",
       "<style scoped>\n",
       "    .dataframe tbody tr th:only-of-type {\n",
       "        vertical-align: middle;\n",
       "    }\n",
       "\n",
       "    .dataframe tbody tr th {\n",
       "        vertical-align: top;\n",
       "    }\n",
       "\n",
       "    .dataframe thead th {\n",
       "        text-align: right;\n",
       "    }\n",
       "</style>\n",
       "<table border=\"1\" class=\"dataframe\">\n",
       "  <thead>\n",
       "    <tr style=\"text-align: right;\">\n",
       "      <th></th>\n",
       "      <th>Category</th>\n",
       "      <th>Resume</th>\n",
       "      <th>cleaned_resume</th>\n",
       "    </tr>\n",
       "  </thead>\n",
       "  <tbody>\n",
       "    <tr>\n",
       "      <th>0</th>\n",
       "      <td>6</td>\n",
       "      <td>Skills * Programming Languages: Python (pandas...</td>\n",
       "      <td>Skills Programming Languages Python pandas num...</td>\n",
       "    </tr>\n",
       "    <tr>\n",
       "      <th>1</th>\n",
       "      <td>6</td>\n",
       "      <td>Education Details \\r\\nMay 2013 to May 2017 B.E...</td>\n",
       "      <td>Education Details May 2013 to May 2017 B E UIT...</td>\n",
       "    </tr>\n",
       "    <tr>\n",
       "      <th>2</th>\n",
       "      <td>6</td>\n",
       "      <td>Areas of Interest Deep Learning, Control Syste...</td>\n",
       "      <td>Areas of Interest Deep Learning Control System...</td>\n",
       "    </tr>\n",
       "    <tr>\n",
       "      <th>3</th>\n",
       "      <td>6</td>\n",
       "      <td>Skills â¢ R â¢ Python â¢ SAP HANA â¢ Table...</td>\n",
       "      <td>Skills R Python SAP HANA Tableau SAP HANA SQL ...</td>\n",
       "    </tr>\n",
       "    <tr>\n",
       "      <th>4</th>\n",
       "      <td>6</td>\n",
       "      <td>Education Details \\r\\n MCA   YMCAUST,  Faridab...</td>\n",
       "      <td>Education Details MCA YMCAUST Faridabad Haryan...</td>\n",
       "    </tr>\n",
       "  </tbody>\n",
       "</table>\n",
       "</div>"
      ],
      "text/plain": [
       "   Category                                             Resume  \\\n",
       "0         6  Skills * Programming Languages: Python (pandas...   \n",
       "1         6  Education Details \\r\\nMay 2013 to May 2017 B.E...   \n",
       "2         6  Areas of Interest Deep Learning, Control Syste...   \n",
       "3         6  Skills â¢ R â¢ Python â¢ SAP HANA â¢ Table...   \n",
       "4         6  Education Details \\r\\n MCA   YMCAUST,  Faridab...   \n",
       "\n",
       "                                      cleaned_resume  \n",
       "0  Skills Programming Languages Python pandas num...  \n",
       "1  Education Details May 2013 to May 2017 B E UIT...  \n",
       "2  Areas of Interest Deep Learning Control System...  \n",
       "3  Skills R Python SAP HANA Tableau SAP HANA SQL ...  \n",
       "4  Education Details MCA YMCAUST Faridabad Haryan...  "
      ]
     },
     "execution_count": 14,
     "metadata": {},
     "output_type": "execute_result"
    }
   ],
   "source": [
    "from sklearn.preprocessing import LabelEncoder\n",
    "df2= df1.copy()\n",
    "df2['Category']= LabelEncoder().fit_transform(df2['Category'])\n",
    "df2.head()"
   ]
  },
  {
   "cell_type": "code",
   "execution_count": 15,
   "id": "2f4bd268",
   "metadata": {},
   "outputs": [
    {
     "name": "stdout",
     "output_type": "stream",
     "text": [
      "Requirement already satisfied: wordcloud in c:\\users\\kavya\\conda3\\lib\\site-packages (1.9.2)\n",
      "Requirement already satisfied: pillow in c:\\users\\kavya\\conda3\\lib\\site-packages (from wordcloud) (9.0.1)\n",
      "Requirement already satisfied: numpy>=1.6.1 in c:\\users\\kavya\\conda3\\lib\\site-packages (from wordcloud) (1.21.5)\n",
      "Requirement already satisfied: matplotlib in c:\\users\\kavya\\conda3\\lib\\site-packages (from wordcloud) (3.5.1)\n",
      "Requirement already satisfied: pyparsing>=2.2.1 in c:\\users\\kavya\\appdata\\roaming\\python\\python39\\site-packages (from matplotlib->wordcloud) (3.0.9)\n",
      "Requirement already satisfied: python-dateutil>=2.7 in c:\\users\\kavya\\conda3\\lib\\site-packages (from matplotlib->wordcloud) (2.8.2)\n",
      "Requirement already satisfied: fonttools>=4.22.0 in c:\\users\\kavya\\conda3\\lib\\site-packages (from matplotlib->wordcloud) (4.25.0)\n",
      "Requirement already satisfied: kiwisolver>=1.0.1 in c:\\users\\kavya\\conda3\\lib\\site-packages (from matplotlib->wordcloud) (1.3.2)\n",
      "Requirement already satisfied: cycler>=0.10 in c:\\users\\kavya\\conda3\\lib\\site-packages (from matplotlib->wordcloud) (0.11.0)\n",
      "Requirement already satisfied: packaging>=20.0 in c:\\users\\kavya\\appdata\\roaming\\python\\python39\\site-packages (from matplotlib->wordcloud) (21.3)\n",
      "Requirement already satisfied: six>=1.5 in c:\\users\\kavya\\conda3\\lib\\site-packages (from python-dateutil>=2.7->matplotlib->wordcloud) (1.16.0)\n"
     ]
    }
   ],
   "source": [
    "!pip install wordcloud\n"
   ]
  },
  {
   "cell_type": "code",
   "execution_count": 16,
   "id": "15862429",
   "metadata": {
    "execution": {
     "iopub.execute_input": "2023-03-30T14:50:53.564544Z",
     "iopub.status.busy": "2023-03-30T14:50:53.563868Z",
     "iopub.status.idle": "2023-03-30T14:50:54.155998Z",
     "shell.execute_reply": "2023-03-30T14:50:54.155002Z"
    },
    "papermill": {
     "duration": 0.613093,
     "end_time": "2023-03-30T14:50:54.158828",
     "exception": false,
     "start_time": "2023-03-30T14:50:53.545735",
     "status": "completed"
    },
    "tags": []
   },
   "outputs": [
    {
     "name": "stderr",
     "output_type": "stream",
     "text": [
      "[nltk_data] Downloading package stopwords to\n",
      "[nltk_data]     C:\\Users\\KAVYA\\AppData\\Roaming\\nltk_data...\n",
      "[nltk_data]   Package stopwords is already up-to-date!\n"
     ]
    }
   ],
   "source": [
    "import nltk\n",
    "nltk.download('stopwords')\n",
    "from nltk.corpus import stopwords\n",
    "import string\n",
    "from wordcloud import WordCloud"
   ]
  },
  {
   "cell_type": "code",
   "execution_count": 17,
   "id": "96e51b74",
   "metadata": {
    "execution": {
     "iopub.execute_input": "2023-03-30T14:50:54.194212Z",
     "iopub.status.busy": "2023-03-30T14:50:54.193554Z",
     "iopub.status.idle": "2023-03-30T14:50:54.204703Z",
     "shell.execute_reply": "2023-03-30T14:50:54.204008Z"
    },
    "papermill": {
     "duration": 0.031142,
     "end_time": "2023-03-30T14:50:54.206820",
     "exception": false,
     "start_time": "2023-03-30T14:50:54.175678",
     "status": "completed"
    },
    "tags": []
   },
   "outputs": [],
   "source": [
    "#Stop words are generally the most common words in a language.\n",
    "#English stop words from nltk:\n",
    "SetOfStopWords= set(stopwords.words('english')+['``',\"''\"])"
   ]
  },
  {
   "cell_type": "code",
   "execution_count": 18,
   "id": "204c19fb",
   "metadata": {
    "execution": {
     "iopub.execute_input": "2023-03-30T14:50:54.242397Z",
     "iopub.status.busy": "2023-03-30T14:50:54.241382Z",
     "iopub.status.idle": "2023-03-30T14:50:54.245686Z",
     "shell.execute_reply": "2023-03-30T14:50:54.245004Z"
    },
    "papermill": {
     "duration": 0.024416,
     "end_time": "2023-03-30T14:50:54.247691",
     "exception": false,
     "start_time": "2023-03-30T14:50:54.223275",
     "status": "completed"
    },
    "tags": []
   },
   "outputs": [],
   "source": [
    "totalWords= []\n"
   ]
  },
  {
   "cell_type": "code",
   "execution_count": 19,
   "id": "438d53ac",
   "metadata": {
    "execution": {
     "iopub.execute_input": "2023-03-30T14:50:54.284541Z",
     "iopub.status.busy": "2023-03-30T14:50:54.283435Z",
     "iopub.status.idle": "2023-03-30T14:50:54.288310Z",
     "shell.execute_reply": "2023-03-30T14:50:54.287417Z"
    },
    "papermill": {
     "duration": 0.025004,
     "end_time": "2023-03-30T14:50:54.290466",
     "exception": false,
     "start_time": "2023-03-30T14:50:54.265462",
     "status": "completed"
    },
    "tags": []
   },
   "outputs": [],
   "source": [
    "Sentences= df2['Resume'].values"
   ]
  },
  {
   "cell_type": "code",
   "execution_count": 20,
   "id": "bad769cd",
   "metadata": {
    "execution": {
     "iopub.execute_input": "2023-03-30T14:50:54.326277Z",
     "iopub.status.busy": "2023-03-30T14:50:54.325466Z",
     "iopub.status.idle": "2023-03-30T14:50:54.330711Z",
     "shell.execute_reply": "2023-03-30T14:50:54.329570Z"
    },
    "papermill": {
     "duration": 0.025531,
     "end_time": "2023-03-30T14:50:54.332806",
     "exception": false,
     "start_time": "2023-03-30T14:50:54.307275",
     "status": "completed"
    },
    "tags": []
   },
   "outputs": [],
   "source": [
    "cleanedSentences= \"\""
   ]
  },
  {
   "cell_type": "code",
   "execution_count": 21,
   "id": "e0991915",
   "metadata": {
    "execution": {
     "iopub.execute_input": "2023-03-30T14:50:54.367698Z",
     "iopub.status.busy": "2023-03-30T14:50:54.367312Z",
     "iopub.status.idle": "2023-03-30T14:50:56.344404Z",
     "shell.execute_reply": "2023-03-30T14:50:56.343301Z"
    },
    "papermill": {
     "duration": 1.997564,
     "end_time": "2023-03-30T14:50:56.347133",
     "exception": false,
     "start_time": "2023-03-30T14:50:54.349569",
     "status": "completed"
    },
    "tags": []
   },
   "outputs": [],
   "source": [
    "for records in Sentences:\n",
    "    cleanedText= clean_function(records)\n",
    "    cleanedSentences += cleanedText\n",
    "    requiredWords = nltk.word_tokenize(cleanedText)\n",
    "    for word in requiredWords:\n",
    "        if word not in SetOfStopWords and word not in string.punctuation:\n",
    "\n",
    "            totalWords.append(word)"
   ]
  },
  {
   "cell_type": "code",
   "execution_count": 22,
   "id": "dcec9b9e",
   "metadata": {
    "execution": {
     "iopub.execute_input": "2023-03-30T14:50:56.382840Z",
     "iopub.status.busy": "2023-03-30T14:50:56.381783Z",
     "iopub.status.idle": "2023-03-30T14:50:56.599100Z",
     "shell.execute_reply": "2023-03-30T14:50:56.597888Z"
    },
    "papermill": {
     "duration": 0.237744,
     "end_time": "2023-03-30T14:50:56.601894",
     "exception": false,
     "start_time": "2023-03-30T14:50:56.364150",
     "status": "completed"
    },
    "tags": []
   },
   "outputs": [],
   "source": [
    "#The FreqDist function gives the user the frequency distribution of all the words in the text.\n",
    "wordfreqdist = nltk.FreqDist(totalWords)"
   ]
  },
  {
   "cell_type": "code",
   "execution_count": 23,
   "id": "c5643530",
   "metadata": {
    "execution": {
     "iopub.execute_input": "2023-03-30T14:50:56.637400Z",
     "iopub.status.busy": "2023-03-30T14:50:56.637016Z",
     "iopub.status.idle": "2023-03-30T14:50:56.645911Z",
     "shell.execute_reply": "2023-03-30T14:50:56.644724Z"
    },
    "papermill": {
     "duration": 0.029233,
     "end_time": "2023-03-30T14:50:56.648034",
     "exception": false,
     "start_time": "2023-03-30T14:50:56.618801",
     "status": "completed"
    },
    "tags": []
   },
   "outputs": [
    {
     "data": {
      "text/plain": [
       "FreqDist({'Exprience': 3829, 'months': 3233, 'company': 3130, 'Details': 2967, 'description': 2634, '1': 2134, 'Project': 1808, 'project': 1579, '6': 1499, 'data': 1438, ...})"
      ]
     },
     "execution_count": 23,
     "metadata": {},
     "output_type": "execute_result"
    }
   ],
   "source": [
    "wordfreqdist"
   ]
  },
  {
   "cell_type": "code",
   "execution_count": 24,
   "id": "d3ca82c3",
   "metadata": {
    "execution": {
     "iopub.execute_input": "2023-03-30T14:50:56.683656Z",
     "iopub.status.busy": "2023-03-30T14:50:56.683246Z",
     "iopub.status.idle": "2023-03-30T14:50:56.690591Z",
     "shell.execute_reply": "2023-03-30T14:50:56.689480Z"
    },
    "papermill": {
     "duration": 0.027946,
     "end_time": "2023-03-30T14:50:56.692796",
     "exception": false,
     "start_time": "2023-03-30T14:50:56.664850",
     "status": "completed"
    },
    "tags": []
   },
   "outputs": [],
   "source": [
    "#most_common() method returns the most common elements  from the counter.\n",
    "#Here n is size that user required to find out most common elements,here it is 30.\n",
    "mostcommon = wordfreqdist.most_common(30)"
   ]
  },
  {
   "cell_type": "code",
   "execution_count": 25,
   "id": "2b3d0203",
   "metadata": {
    "execution": {
     "iopub.execute_input": "2023-03-30T14:50:56.728483Z",
     "iopub.status.busy": "2023-03-30T14:50:56.728069Z",
     "iopub.status.idle": "2023-03-30T14:50:56.736030Z",
     "shell.execute_reply": "2023-03-30T14:50:56.735001Z"
    },
    "papermill": {
     "duration": 0.02842,
     "end_time": "2023-03-30T14:50:56.738233",
     "exception": false,
     "start_time": "2023-03-30T14:50:56.709813",
     "status": "completed"
    },
    "tags": []
   },
   "outputs": [
    {
     "data": {
      "text/plain": [
       "[('Exprience', 3829),\n",
       " ('months', 3233),\n",
       " ('company', 3130),\n",
       " ('Details', 2967),\n",
       " ('description', 2634),\n",
       " ('1', 2134),\n",
       " ('Project', 1808),\n",
       " ('project', 1579),\n",
       " ('6', 1499),\n",
       " ('data', 1438),\n",
       " ('team', 1424),\n",
       " ('Maharashtra', 1385),\n",
       " ('year', 1244),\n",
       " ('Less', 1137),\n",
       " ('January', 1086),\n",
       " ('using', 1041),\n",
       " ('Skill', 1018),\n",
       " ('Pune', 1016),\n",
       " ('Management', 1010),\n",
       " ('SQL', 990),\n",
       " ('Ltd', 934),\n",
       " ('management', 927),\n",
       " ('C', 896),\n",
       " ('Engineering', 855),\n",
       " ('Education', 833),\n",
       " ('Developer', 806),\n",
       " ('Java', 773),\n",
       " ('2', 754),\n",
       " ('development', 752),\n",
       " ('monthsCompany', 746)]"
      ]
     },
     "execution_count": 25,
     "metadata": {},
     "output_type": "execute_result"
    }
   ],
   "source": [
    "mostcommon"
   ]
  },
  {
   "cell_type": "markdown",
   "id": "e0191a0f",
   "metadata": {
    "papermill": {
     "duration": 0.019495,
     "end_time": "2023-03-30T14:50:58.629018",
     "exception": false,
     "start_time": "2023-03-30T14:50:58.609523",
     "status": "completed"
    },
    "tags": []
   },
   "source": [
    "# Building Models"
   ]
  },
  {
   "cell_type": "code",
   "execution_count": 26,
   "id": "081db8b4",
   "metadata": {
    "execution": {
     "iopub.execute_input": "2023-03-30T14:50:58.710844Z",
     "iopub.status.busy": "2023-03-30T14:50:58.709977Z",
     "iopub.status.idle": "2023-03-30T14:50:58.715448Z",
     "shell.execute_reply": "2023-03-30T14:50:58.714529Z"
    },
    "papermill": {
     "duration": 0.029265,
     "end_time": "2023-03-30T14:50:58.717491",
     "exception": false,
     "start_time": "2023-03-30T14:50:58.688226",
     "status": "completed"
    },
    "tags": []
   },
   "outputs": [],
   "source": [
    "\n",
    "from sklearn.model_selection import train_test_split\n",
    "from sklearn.feature_extraction.text import TfidfVectorizer\n",
    "from scipy.sparse import hstack"
   ]
  },
  {
   "cell_type": "code",
   "execution_count": 27,
   "id": "b35e66b3",
   "metadata": {
    "execution": {
     "iopub.execute_input": "2023-03-30T14:50:58.799784Z",
     "iopub.status.busy": "2023-03-30T14:50:58.798902Z",
     "iopub.status.idle": "2023-03-30T14:50:58.804581Z",
     "shell.execute_reply": "2023-03-30T14:50:58.803629Z"
    },
    "papermill": {
     "duration": 0.029236,
     "end_time": "2023-03-30T14:50:58.806642",
     "exception": false,
     "start_time": "2023-03-30T14:50:58.777406",
     "status": "completed"
    },
    "tags": []
   },
   "outputs": [],
   "source": [
    "Text= df2['cleaned_resume'].values\n",
    "Target= df2['Category'].values"
   ]
  },
  {
   "cell_type": "markdown",
   "id": "ba0d81e6",
   "metadata": {
    "papermill": {
     "duration": 0.019559,
     "end_time": "2023-03-30T14:50:58.846679",
     "exception": false,
     "start_time": "2023-03-30T14:50:58.827120",
     "status": "completed"
    },
    "tags": []
   },
   "source": [
    "**Here we will preprocess and convert the ‘cleaned_resume’ column into vectors. We will be using the ‘Tf-Idf’ method to get the vectors:**"
   ]
  },
  {
   "cell_type": "code",
   "execution_count": 28,
   "id": "6800faed",
   "metadata": {
    "execution": {
     "iopub.execute_input": "2023-03-30T14:50:58.891435Z",
     "iopub.status.busy": "2023-03-30T14:50:58.890725Z",
     "iopub.status.idle": "2023-03-30T14:50:59.486351Z",
     "shell.execute_reply": "2023-03-30T14:50:59.485304Z"
    },
    "papermill": {
     "duration": 0.619787,
     "end_time": "2023-03-30T14:50:59.489225",
     "exception": false,
     "start_time": "2023-03-30T14:50:58.869438",
     "status": "completed"
    },
    "tags": []
   },
   "outputs": [],
   "source": [
    "word_vectorizer = TfidfVectorizer(sublinear_tf=True, stop_words='english')\n",
    "word_vectorizer.fit(Text)\n",
    "WordFeatures= word_vectorizer.transform(Text)"
   ]
  },
  {
   "cell_type": "markdown",
   "id": "c20e2832",
   "metadata": {
    "papermill": {
     "duration": 0.020124,
     "end_time": "2023-03-30T14:50:59.529422",
     "exception": false,
     "start_time": "2023-03-30T14:50:59.509298",
     "status": "completed"
    },
    "tags": []
   },
   "source": [
    "**We have ‘WordFeatures’ as vectors and ‘Target’ and target after this step.**"
   ]
  },
  {
   "cell_type": "code",
   "execution_count": 29,
   "id": "d9f1d08a",
   "metadata": {
    "execution": {
     "iopub.execute_input": "2023-03-30T14:50:59.571791Z",
     "iopub.status.busy": "2023-03-30T14:50:59.571399Z",
     "iopub.status.idle": "2023-03-30T14:50:59.577905Z",
     "shell.execute_reply": "2023-03-30T14:50:59.576857Z"
    },
    "papermill": {
     "duration": 0.030512,
     "end_time": "2023-03-30T14:50:59.580439",
     "exception": false,
     "start_time": "2023-03-30T14:50:59.549927",
     "status": "completed"
    },
    "tags": []
   },
   "outputs": [
    {
     "data": {
      "text/plain": [
       "(962, 7351)"
      ]
     },
     "execution_count": 29,
     "metadata": {},
     "output_type": "execute_result"
    }
   ],
   "source": [
    "WordFeatures.shape"
   ]
  },
  {
   "cell_type": "markdown",
   "id": "7121b3c3",
   "metadata": {
    "papermill": {
     "duration": 0.019815,
     "end_time": "2023-03-30T14:50:59.620330",
     "exception": false,
     "start_time": "2023-03-30T14:50:59.600515",
     "status": "completed"
    },
    "tags": []
   },
   "source": [
    "**Let’s split the data into training and test set:**\n",
    "\n",
    "**It to used the parameter ( random_state=42) to produce the same results across a different run.**"
   ]
  },
  {
   "cell_type": "code",
   "execution_count": 30,
   "id": "28539669",
   "metadata": {
    "execution": {
     "iopub.execute_input": "2023-03-30T14:50:59.661764Z",
     "iopub.status.busy": "2023-03-30T14:50:59.661382Z",
     "iopub.status.idle": "2023-03-30T14:50:59.668438Z",
     "shell.execute_reply": "2023-03-30T14:50:59.667538Z"
    },
    "papermill": {
     "duration": 0.030244,
     "end_time": "2023-03-30T14:50:59.670533",
     "exception": false,
     "start_time": "2023-03-30T14:50:59.640289",
     "status": "completed"
    },
    "tags": []
   },
   "outputs": [],
   "source": [
    "X_train,X_test,y_train,y_test= train_test_split(WordFeatures, Target, random_state=42)"
   ]
  },
  {
   "cell_type": "code",
   "execution_count": 31,
   "id": "4718a8c3",
   "metadata": {
    "execution": {
     "iopub.execute_input": "2023-03-30T14:50:59.712684Z",
     "iopub.status.busy": "2023-03-30T14:50:59.712044Z",
     "iopub.status.idle": "2023-03-30T14:50:59.717568Z",
     "shell.execute_reply": "2023-03-30T14:50:59.716160Z"
    },
    "papermill": {
     "duration": 0.029704,
     "end_time": "2023-03-30T14:50:59.720357",
     "exception": false,
     "start_time": "2023-03-30T14:50:59.690653",
     "status": "completed"
    },
    "tags": []
   },
   "outputs": [
    {
     "name": "stdout",
     "output_type": "stream",
     "text": [
      "(721, 7351)\n",
      "(241, 7351)\n"
     ]
    }
   ],
   "source": [
    "print(X_train.shape)\n",
    "print(X_test.shape)"
   ]
  },
  {
   "cell_type": "markdown",
   "id": "dd28323b",
   "metadata": {
    "papermill": {
     "duration": 0.019757,
     "end_time": "2023-03-30T14:50:59.760876",
     "exception": false,
     "start_time": "2023-03-30T14:50:59.741119",
     "status": "completed"
    },
    "tags": []
   },
   "source": [
    "\n",
    "**1.**  For each classifier, the class is fitted against all the other classes. In addition to its computational efficiency (only n_classes classifiers are needed), one advantage of this approach is its interpretability. \n",
    "\n",
    "**2. train_test_split is to split and train the data. KNeighborsClassifier is for K nearest neighbor.**\n",
    "\n",
    "**3. LogisticRegression is the module used to implement logistic regression.**\n",
    "\n",
    "**4. If the hyperplane classifies the dataset linearly then the algorithm we call it as SVC.**\n",
    "\n",
    "**5. The algorithm that separates the dataset by non-linear approach then we call it as SVM.**\n",
    "\n",
    "**6. A random forest classifier. A random forest is a meta estimator that fits a number of decision tree classifiers on various sub-samples of the dataset and uses averaging to improve the predictive accuracy and control over-fitting.**\n",
    "\n",
    "**7.GradientBoostingClassifier. Gradient Boosting for classification. This algorithm builds an additive model in a forward stage-wise fashion; it allows for the optimization of arbitrary differentiable loss functions.**"
   ]
  },
  {
   "cell_type": "code",
   "execution_count": 32,
   "id": "516c3b03",
   "metadata": {
    "execution": {
     "iopub.execute_input": "2023-03-30T14:50:59.802858Z",
     "iopub.status.busy": "2023-03-30T14:50:59.802419Z",
     "iopub.status.idle": "2023-03-30T14:50:59.922299Z",
     "shell.execute_reply": "2023-03-30T14:50:59.921187Z"
    },
    "papermill": {
     "duration": 0.143881,
     "end_time": "2023-03-30T14:50:59.924876",
     "exception": false,
     "start_time": "2023-03-30T14:50:59.780995",
     "status": "completed"
    },
    "tags": []
   },
   "outputs": [],
   "source": [
    "from sklearn.multiclass import OneVsRestClassifier\n",
    "#train_test_split is to split and train the data. KNeighborsClassifier is for K nearest neighbor.\n",
    "from sklearn.neighbors import KNeighborsClassifier\n",
    "#LogisticRegression is the module used to implement logistic regression.\n",
    "from sklearn.linear_model import LogisticRegression\n",
    "#If the hyperplane classifies the dataset linearly then the algorithm we call it as SVC.T\n",
    "#he algorithm that separates the dataset by non-linear approach then we call it as SVM.\n",
    "from sklearn.svm import SVC\n",
    "from sklearn.ensemble import RandomForestClassifier\n",
    "from sklearn.ensemble import GradientBoostingClassifier\n",
    "from sklearn.ensemble import RandomForestClassifier"
   ]
  },
  {
   "cell_type": "code",
   "execution_count": 33,
   "id": "4bdf08f8",
   "metadata": {
    "execution": {
     "iopub.execute_input": "2023-03-30T14:50:59.968317Z",
     "iopub.status.busy": "2023-03-30T14:50:59.967170Z",
     "iopub.status.idle": "2023-03-30T14:50:59.972870Z",
     "shell.execute_reply": "2023-03-30T14:50:59.971864Z"
    },
    "papermill": {
     "duration": 0.029759,
     "end_time": "2023-03-30T14:50:59.975130",
     "exception": false,
     "start_time": "2023-03-30T14:50:59.945371",
     "status": "completed"
    },
    "tags": []
   },
   "outputs": [],
   "source": [
    "models = {\n",
    "    'K-Nearest Neighbors' : KNeighborsClassifier(),\n",
    "    'Logistic Regression' : LogisticRegression(),\n",
    "    'Support Vector Machine' : SVC(),\n",
    "    'Random Forest' : RandomForestClassifier()    \n",
    "}"
   ]
  },
  {
   "cell_type": "code",
   "execution_count": 34,
   "id": "bd373c73",
   "metadata": {
    "execution": {
     "iopub.execute_input": "2023-03-30T14:51:00.017708Z",
     "iopub.status.busy": "2023-03-30T14:51:00.017301Z",
     "iopub.status.idle": "2023-03-30T14:51:00.027501Z",
     "shell.execute_reply": "2023-03-30T14:51:00.026469Z"
    },
    "papermill": {
     "duration": 0.034495,
     "end_time": "2023-03-30T14:51:00.029733",
     "exception": false,
     "start_time": "2023-03-30T14:50:59.995238",
     "status": "completed"
    },
    "tags": []
   },
   "outputs": [
    {
     "data": {
      "text/plain": [
       "[OneVsRestClassifier(estimator=KNeighborsClassifier()),\n",
       " OneVsRestClassifier(estimator=LogisticRegression()),\n",
       " OneVsRestClassifier(estimator=SVC()),\n",
       " OneVsRestClassifier(estimator=RandomForestClassifier())]"
      ]
     },
     "execution_count": 34,
     "metadata": {},
     "output_type": "execute_result"
    }
   ],
   "source": [
    "model_list=[]\n",
    "for model in models.values():\n",
    "    model_list.append(OneVsRestClassifier(model))\n",
    "model_list"
   ]
  },
  {
   "cell_type": "code",
   "execution_count": 35,
   "id": "05c50f7d",
   "metadata": {
    "execution": {
     "iopub.execute_input": "2023-03-30T14:51:00.072258Z",
     "iopub.status.busy": "2023-03-30T14:51:00.071385Z",
     "iopub.status.idle": "2023-03-30T14:51:11.614063Z",
     "shell.execute_reply": "2023-03-30T14:51:11.613006Z"
    },
    "papermill": {
     "duration": 11.567052,
     "end_time": "2023-03-30T14:51:11.616841",
     "exception": false,
     "start_time": "2023-03-30T14:51:00.049789",
     "status": "completed"
    },
    "tags": []
   },
   "outputs": [
    {
     "name": "stdout",
     "output_type": "stream",
     "text": [
      "The 4 Estimator we used:\n",
      "1.KNeighborsClassifier\n",
      "2.LogisticRegresssion\n",
      "3.SVC\n",
      "4.RandomForestClassifier\n",
      "\n",
      "OneVsRestClassifier(estimator=KNeighborsClassifier()) trained\n",
      "OneVsRestClassifier(estimator=LogisticRegression()) trained\n",
      "OneVsRestClassifier(estimator=SVC()) trained\n",
      "OneVsRestClassifier(estimator=RandomForestClassifier()) trained\n",
      "************************************************************\n",
      "all models trained\n"
     ]
    }
   ],
   "source": [
    "print(\"The 4 Estimator we used:\")\n",
    "print(\"1.KNeighborsClassifier\\n2.LogisticRegresssion\\n3.SVC\\n4.RandomForestClassifier\\n\")\n",
    "for i in model_list:\n",
    "    i.fit(X_train, y_train)\n",
    "    print(f'{i} trained')\n",
    "\n",
    "print(\"*\"*60)\n",
    "print(\"all models trained\")"
   ]
  },
  {
   "cell_type": "code",
   "execution_count": 36,
   "id": "9a43702f",
   "metadata": {
    "execution": {
     "iopub.execute_input": "2023-03-30T14:51:11.660890Z",
     "iopub.status.busy": "2023-03-30T14:51:11.660205Z",
     "iopub.status.idle": "2023-03-30T14:51:23.367686Z",
     "shell.execute_reply": "2023-03-30T14:51:23.366042Z"
    },
    "papermill": {
     "duration": 11.732507,
     "end_time": "2023-03-30T14:51:23.370368",
     "exception": false,
     "start_time": "2023-03-30T14:51:11.637861",
     "status": "completed"
    },
    "tags": []
   },
   "outputs": [
    {
     "name": "stdout",
     "output_type": "stream",
     "text": [
      "Accuracy of OneVsRestClassifier(estimator=KNeighborsClassifier()) on training set : 0.9805825242718447\n",
      "Accuracy of OneVsRestClassifier(estimator=KNeighborsClassifier()) on test set : 0.966804979253112\n",
      "****************************************************************************************************\n",
      "\n",
      "\n",
      "Accuracy of OneVsRestClassifier(estimator=LogisticRegression()) on training set : 1.0\n",
      "Accuracy of OneVsRestClassifier(estimator=LogisticRegression()) on test set : 0.991701244813278\n",
      "****************************************************************************************************\n",
      "\n",
      "\n",
      "Accuracy of OneVsRestClassifier(estimator=SVC()) on training set : 1.0\n",
      "Accuracy of OneVsRestClassifier(estimator=SVC()) on test set : 0.991701244813278\n",
      "****************************************************************************************************\n",
      "\n",
      "\n",
      "Accuracy of OneVsRestClassifier(estimator=RandomForestClassifier()) on training set : 1.0\n",
      "Accuracy of OneVsRestClassifier(estimator=RandomForestClassifier()) on test set : 0.983402489626556\n",
      "****************************************************************************************************\n",
      "\n",
      "\n",
      "all scores calculated\n"
     ]
    }
   ],
   "source": [
    "for count, value in enumerate(model_list):\n",
    "    print(f\"Accuracy of {value} on training set :\", model_list[count].score(X_train, y_train))\n",
    "    print(f\"Accuracy of {value} on test set :\", model_list[count].score(X_test, y_test))\n",
    "    print(\"*\"*100)\n",
    "    print(\"\\n\")\n",
    "\n",
    "print(\"all scores calculated\")"
   ]
  },
  {
   "cell_type": "code",
   "execution_count": 37,
   "id": "efe92e09",
   "metadata": {
    "execution": {
     "iopub.execute_input": "2023-03-30T14:51:23.414039Z",
     "iopub.status.busy": "2023-03-30T14:51:23.413375Z",
     "iopub.status.idle": "2023-03-30T14:51:23.418683Z",
     "shell.execute_reply": "2023-03-30T14:51:23.417916Z"
    },
    "papermill": {
     "duration": 0.029491,
     "end_time": "2023-03-30T14:51:23.420769",
     "exception": false,
     "start_time": "2023-03-30T14:51:23.391278",
     "status": "completed"
    },
    "tags": []
   },
   "outputs": [],
   "source": [
    "from sklearn.metrics import confusion_matrix as CM\n",
    "from sklearn.metrics import classification_report\n",
    "\n",
    "from sklearn.metrics import roc_curve\n",
    "from sklearn.metrics import roc_auc_score"
   ]
  },
  {
   "cell_type": "code",
   "execution_count": 38,
   "id": "bf811490",
   "metadata": {
    "execution": {
     "iopub.execute_input": "2023-03-30T14:51:23.464331Z",
     "iopub.status.busy": "2023-03-30T14:51:23.463690Z",
     "iopub.status.idle": "2023-03-30T14:51:26.596897Z",
     "shell.execute_reply": "2023-03-30T14:51:26.595716Z"
    },
    "papermill": {
     "duration": 3.158139,
     "end_time": "2023-03-30T14:51:26.599574",
     "exception": false,
     "start_time": "2023-03-30T14:51:23.441435",
     "status": "completed"
    },
    "tags": []
   },
   "outputs": [
    {
     "name": "stdout",
     "output_type": "stream",
     "text": [
      "OneVsRestClassifier(estimator=KNeighborsClassifier()) classification report\n",
      "--------------------------------------------------------------------------------\n",
      "              precision    recall  f1-score   support\n",
      "\n",
      "           0       1.00      1.00      1.00         6\n",
      "           1       1.00      1.00      1.00         8\n",
      "           2       1.00      1.00      1.00         6\n",
      "           3       1.00      1.00      1.00        10\n",
      "           4       1.00      1.00      1.00         5\n",
      "           5       1.00      1.00      1.00         9\n",
      "           6       0.88      0.78      0.82         9\n",
      "           7       1.00      0.89      0.94         9\n",
      "           8       1.00      0.88      0.94        17\n",
      "           9       1.00      1.00      1.00        10\n",
      "          10       1.00      1.00      1.00         7\n",
      "          11       1.00      1.00      1.00         7\n",
      "          12       1.00      1.00      1.00        15\n",
      "          13       1.00      1.00      1.00         6\n",
      "          14       1.00      0.70      0.82        10\n",
      "          15       1.00      1.00      1.00        21\n",
      "          16       1.00      1.00      1.00        10\n",
      "          17       1.00      1.00      1.00         3\n",
      "          18       1.00      1.00      1.00        14\n",
      "          19       0.80      1.00      0.89         8\n",
      "          20       1.00      1.00      1.00        11\n",
      "          21       0.78      1.00      0.88         7\n",
      "          22       0.75      1.00      0.86         9\n",
      "          23       1.00      1.00      1.00        19\n",
      "          24       1.00      1.00      1.00         5\n",
      "\n",
      "    accuracy                           0.97       241\n",
      "   macro avg       0.97      0.97      0.97       241\n",
      "weighted avg       0.97      0.97      0.97       241\n",
      "\n",
      "****************************************************************************************************\n",
      " \n",
      "OneVsRestClassifier(estimator=LogisticRegression()) classification report\n",
      "--------------------------------------------------------------------------------\n",
      "              precision    recall  f1-score   support\n",
      "\n",
      "           0       1.00      1.00      1.00         6\n",
      "           1       1.00      1.00      1.00         8\n",
      "           2       1.00      1.00      1.00         6\n",
      "           3       1.00      1.00      1.00        10\n",
      "           4       1.00      1.00      1.00         5\n",
      "           5       1.00      1.00      1.00         9\n",
      "           6       1.00      1.00      1.00         9\n",
      "           7       1.00      1.00      1.00         9\n",
      "           8       1.00      0.88      0.94        17\n",
      "           9       1.00      1.00      1.00        10\n",
      "          10       1.00      1.00      1.00         7\n",
      "          11       1.00      1.00      1.00         7\n",
      "          12       1.00      1.00      1.00        15\n",
      "          13       1.00      1.00      1.00         6\n",
      "          14       1.00      1.00      1.00        10\n",
      "          15       0.95      1.00      0.98        21\n",
      "          16       1.00      1.00      1.00        10\n",
      "          17       1.00      1.00      1.00         3\n",
      "          18       1.00      1.00      1.00        14\n",
      "          19       0.89      1.00      0.94         8\n",
      "          20       1.00      1.00      1.00        11\n",
      "          21       1.00      1.00      1.00         7\n",
      "          22       1.00      1.00      1.00         9\n",
      "          23       1.00      1.00      1.00        19\n",
      "          24       1.00      1.00      1.00         5\n",
      "\n",
      "    accuracy                           0.99       241\n",
      "   macro avg       0.99      1.00      0.99       241\n",
      "weighted avg       0.99      0.99      0.99       241\n",
      "\n",
      "****************************************************************************************************\n",
      " \n",
      "OneVsRestClassifier(estimator=SVC()) classification report\n",
      "--------------------------------------------------------------------------------\n",
      "              precision    recall  f1-score   support\n",
      "\n",
      "           0       1.00      1.00      1.00         6\n",
      "           1       1.00      1.00      1.00         8\n",
      "           2       1.00      1.00      1.00         6\n",
      "           3       1.00      1.00      1.00        10\n",
      "           4       1.00      1.00      1.00         5\n",
      "           5       1.00      1.00      1.00         9\n",
      "           6       1.00      1.00      1.00         9\n",
      "           7       1.00      1.00      1.00         9\n",
      "           8       1.00      0.88      0.94        17\n",
      "           9       1.00      1.00      1.00        10\n",
      "          10       1.00      1.00      1.00         7\n",
      "          11       1.00      1.00      1.00         7\n",
      "          12       1.00      1.00      1.00        15\n",
      "          13       1.00      1.00      1.00         6\n",
      "          14       1.00      1.00      1.00        10\n",
      "          15       0.95      1.00      0.98        21\n",
      "          16       1.00      1.00      1.00        10\n",
      "          17       1.00      1.00      1.00         3\n",
      "          18       1.00      1.00      1.00        14\n",
      "          19       0.89      1.00      0.94         8\n",
      "          20       1.00      1.00      1.00        11\n",
      "          21       1.00      1.00      1.00         7\n",
      "          22       1.00      1.00      1.00         9\n",
      "          23       1.00      1.00      1.00        19\n",
      "          24       1.00      1.00      1.00         5\n",
      "\n",
      "    accuracy                           0.99       241\n",
      "   macro avg       0.99      1.00      0.99       241\n",
      "weighted avg       0.99      0.99      0.99       241\n",
      "\n",
      "****************************************************************************************************\n",
      " \n",
      "OneVsRestClassifier(estimator=RandomForestClassifier()) classification report\n",
      "--------------------------------------------------------------------------------\n",
      "              precision    recall  f1-score   support\n",
      "\n",
      "           0       1.00      0.67      0.80         6\n",
      "           1       1.00      1.00      1.00         8\n",
      "           2       1.00      1.00      1.00         6\n",
      "           3       1.00      1.00      1.00        10\n",
      "           4       1.00      1.00      1.00         5\n",
      "           5       1.00      1.00      1.00         9\n",
      "           6       1.00      1.00      1.00         9\n",
      "           7       1.00      1.00      1.00         9\n",
      "           8       1.00      0.88      0.94        17\n",
      "           9       1.00      1.00      1.00        10\n",
      "          10       1.00      1.00      1.00         7\n",
      "          11       1.00      1.00      1.00         7\n",
      "          12       0.88      1.00      0.94        15\n",
      "          13       1.00      1.00      1.00         6\n",
      "          14       1.00      1.00      1.00        10\n",
      "          15       1.00      1.00      1.00        21\n",
      "          16       1.00      1.00      1.00        10\n",
      "          17       1.00      1.00      1.00         3\n",
      "          18       1.00      1.00      1.00        14\n",
      "          19       0.89      1.00      0.94         8\n",
      "          20       1.00      1.00      1.00        11\n",
      "          21       1.00      1.00      1.00         7\n",
      "          22       1.00      1.00      1.00         9\n",
      "          23       1.00      1.00      1.00        19\n",
      "          24       0.83      1.00      0.91         5\n",
      "\n",
      "    accuracy                           0.98       241\n",
      "   macro avg       0.98      0.98      0.98       241\n",
      "weighted avg       0.99      0.98      0.98       241\n",
      "\n",
      "****************************************************************************************************\n",
      " \n"
     ]
    }
   ],
   "source": [
    "for count, value in enumerate(model_list):\n",
    "    print(f'{value} classification report')\n",
    "    print(\"-\"*80)\n",
    "    print(classification_report(y_test, model_list[count].predict(X_test)))\n",
    "    print(\"*\"*100)\n",
    "    print(\" \")"
   ]
  },
  {
   "cell_type": "markdown",
   "id": "6ca837d7",
   "metadata": {
    "papermill": {
     "duration": 0.021048,
     "end_time": "2023-03-30T14:51:26.642371",
     "exception": false,
     "start_time": "2023-03-30T14:51:26.621323",
     "status": "completed"
    },
    "tags": []
   },
   "source": [
    "# Cross Validation for Models"
   ]
  },
  {
   "cell_type": "code",
   "execution_count": 39,
   "id": "e7f28dc3",
   "metadata": {
    "execution": {
     "iopub.execute_input": "2023-03-30T14:51:26.687234Z",
     "iopub.status.busy": "2023-03-30T14:51:26.686530Z",
     "iopub.status.idle": "2023-03-30T14:51:26.691546Z",
     "shell.execute_reply": "2023-03-30T14:51:26.690675Z"
    },
    "papermill": {
     "duration": 0.029746,
     "end_time": "2023-03-30T14:51:26.693623",
     "exception": false,
     "start_time": "2023-03-30T14:51:26.663877",
     "status": "completed"
    },
    "tags": []
   },
   "outputs": [],
   "source": [
    "from sklearn.model_selection import cross_val_score, KFold"
   ]
  },
  {
   "cell_type": "code",
   "execution_count": null,
   "id": "843f8f00",
   "metadata": {
    "execution": {
     "iopub.execute_input": "2023-03-30T14:51:26.738452Z",
     "iopub.status.busy": "2023-03-30T14:51:26.737773Z",
     "iopub.status.idle": "2023-03-30T14:53:25.184577Z",
     "shell.execute_reply": "2023-03-30T14:53:25.183430Z"
    },
    "papermill": {
     "duration": 118.472726,
     "end_time": "2023-03-30T14:53:25.187669",
     "exception": false,
     "start_time": "2023-03-30T14:51:26.714943",
     "status": "completed"
    },
    "tags": []
   },
   "outputs": [],
   "source": [
    "results = {}\n",
    "\n",
    "kf = KFold(n_splits= 10)\n",
    "\n",
    "for count, value in enumerate(model_list):\n",
    "    result = cross_val_score(model_list[count], X_train, y_train, scoring= 'accuracy', cv= kf)\n",
    "    results[value] = result"
   ]
  },
  {
   "cell_type": "code",
   "execution_count": null,
   "id": "f9b8b655",
   "metadata": {
    "execution": {
     "iopub.execute_input": "2023-03-30T14:53:25.232251Z",
     "iopub.status.busy": "2023-03-30T14:53:25.231812Z",
     "iopub.status.idle": "2023-03-30T14:53:25.241171Z",
     "shell.execute_reply": "2023-03-30T14:53:25.239608Z"
    },
    "papermill": {
     "duration": 0.033992,
     "end_time": "2023-03-30T14:53:25.243405",
     "exception": false,
     "start_time": "2023-03-30T14:53:25.209413",
     "status": "completed"
    },
    "tags": []
   },
   "outputs": [],
   "source": [
    "print(\"r2 scores\")\n",
    "print(\"*********************************\")\n",
    "for name, result in results.items():\n",
    "   \n",
    "    print(f'{name} : {round(np.mean(result),3)}')\n",
    "    print(\"----------------\")"
   ]
  }
 ],
 "metadata": {
  "kernelspec": {
   "display_name": "Python 3 (ipykernel)",
   "language": "python",
   "name": "python3"
  },
  "language_info": {
   "codemirror_mode": {
    "name": "ipython",
    "version": 3
   },
   "file_extension": ".py",
   "mimetype": "text/x-python",
   "name": "python",
   "nbconvert_exporter": "python",
   "pygments_lexer": "ipython3",
   "version": "3.9.12"
  },
  "papermill": {
   "default_parameters": {},
   "duration": 165.109365,
   "end_time": "2023-03-30T14:53:26.086692",
   "environment_variables": {},
   "exception": null,
   "input_path": "__notebook__.ipynb",
   "output_path": "__notebook__.ipynb",
   "parameters": {},
   "start_time": "2023-03-30T14:50:40.977327",
   "version": "2.3.4"
  }
 },
 "nbformat": 4,
 "nbformat_minor": 5
}
